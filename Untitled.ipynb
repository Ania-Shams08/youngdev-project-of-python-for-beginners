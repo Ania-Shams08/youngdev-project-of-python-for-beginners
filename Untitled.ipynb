{
 "cells": [
  {
   "cell_type": "markdown",
   "id": "955fae42",
   "metadata": {},
   "source": [
    "## task-1: Define a function that calculates the area of a rectangle.  Pass the length and width as parameters and return the result."
   ]
  },
  {
   "cell_type": "code",
   "execution_count": 6,
   "id": "dda78975",
   "metadata": {},
   "outputs": [
    {
     "name": "stdout",
     "output_type": "stream",
     "text": [
      "The area of rectangle is: 150\n"
     ]
    }
   ],
   "source": [
    "def retangle_area(length, width):\n",
    "    area = lenght*width\n",
    "    return area\n",
    "lenght = 10\n",
    "width = 15\n",
    "area = retangle_area(lenght, width)\n",
    "print(\"The area of rectangle is:\", area)"
   ]
  },
  {
   "cell_type": "markdown",
   "id": "51d596c6",
   "metadata": {},
   "source": [
    "## Task2 Write a program that takes a user's input and checks if it is a palindrome(reads the same backwards)"
   ]
  },
  {
   "cell_type": "code",
   "execution_count": 3,
   "id": "e92581b0",
   "metadata": {},
   "outputs": [
    {
     "name": "stdout",
     "output_type": "stream",
     "text": [
      "it is a palindrome\n",
      "it is not a palindrome\n"
     ]
    }
   ],
   "source": [
    "def palindrome_check(word): #defining function\n",
    "    word = word.lower() #change the word to lower case\n",
    "    reversed_word = word[::-1] #to check the word is equal to its reversed word\n",
    "    if word == reversed_word: #conditions\n",
    "        print(\"it is a palindrome\")\n",
    "    else:\n",
    "        print(\"it is not a palindrome\")\n",
    "    \n",
    "word = \"deed\" # declaration\n",
    "result = palindrome_check(word) #function calling\n",
    "\n",
    "word = \"ania\"\n",
    "result = palindrome_check(word)"
   ]
  },
  {
   "cell_type": "markdown",
   "id": "ff01bf21",
   "metadata": {},
   "source": [
    "## Task3: Use a list to store a collection of names and then display the names in reverse order."
   ]
  },
  {
   "cell_type": "code",
   "execution_count": 5,
   "id": "0355c4af",
   "metadata": {},
   "outputs": [
    {
     "name": "stdout",
     "output_type": "stream",
     "text": [
      "list before reversed ['Ania', 'lili', 'zahra', 'Ali', 'asfand']\n",
      "list after reversed ['asfand', 'Ali', 'zahra', 'lili', 'Ania']\n"
     ]
    }
   ],
   "source": [
    "names = [\"Ania\", \"lili\", \"zahra\", \"Ali\", \"asfand\"] #creating list\n",
    "print(\"list before reversed\", names)\n",
    "reversed_names = names[::-1] # reverse list\n",
    "print(\"list after reversed\", reversed_names)\n"
   ]
  }
 ],
 "metadata": {
  "kernelspec": {
   "display_name": "Python 3 (ipykernel)",
   "language": "python",
   "name": "python3"
  },
  "language_info": {
   "codemirror_mode": {
    "name": "ipython",
    "version": 3
   },
   "file_extension": ".py",
   "mimetype": "text/x-python",
   "name": "python",
   "nbconvert_exporter": "python",
   "pygments_lexer": "ipython3",
   "version": "3.11.5"
  }
 },
 "nbformat": 4,
 "nbformat_minor": 5
}
